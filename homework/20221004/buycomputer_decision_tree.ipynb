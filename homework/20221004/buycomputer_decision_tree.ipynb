{
 "cells": [
  {
   "cell_type": "markdown",
   "metadata": {},
   "source": [
    "### 先引入會用到的套件"
   ]
  },
  {
   "cell_type": "code",
   "execution_count": 8,
   "metadata": {},
   "outputs": [],
   "source": [
    "#先引入會用到的相關套件\n",
    "import matplotlib.pyplot as plt\n",
    "import numpy as np\n",
    "import pandas as pd\n",
    "from sklearn.metrics import accuracy_score\n",
    "from sklearn.tree import DecisionTreeClassifier\n",
    "from sklearn.tree import export_graphviz\n",
    "from sklearn.linear_model import Perceptron\n",
    "import pydotplus"
   ]
  },
  {
   "cell_type": "markdown",
   "metadata": {},
   "source": [
    "### 讀取資料"
   ]
  },
  {
   "cell_type": "code",
   "execution_count": 9,
   "metadata": {},
   "outputs": [
    {
     "name": "stdout",
     "output_type": "stream",
     "text": [
      "處理過的「訓練」資料內容\n",
      "    agelevel  income  student  credit  BuyComputer\n",
      "0          0       2        0       0            0\n",
      "1          0       2        0       1            0\n",
      "2          1       2        0       0            1\n",
      "3          2       0        0       0            1\n",
      "4          2       0        1       0            1\n",
      "5          2       0        1       1            0\n",
      "6          1       0        1       1            1\n",
      "7          0       0        0       0            0\n",
      "8          0       0        1       0            1\n",
      "9          2       0        1       0            1\n",
      "10         0       0        1       1            1\n",
      "11         1       0        0       1            1\n",
      "12         1       2        1       0            1\n",
      "13         2       0        0       1            0\n",
      "--------------------\n",
      "處理過的「測試」資料內容\n",
      "   agelevel  income  student  credit  BuyComputer\n",
      "0         0       0        1       0            0\n"
     ]
    }
   ],
   "source": [
    "# 從檔案裡面把資料出來\n",
    "# Params：\n",
    "# fname ：檔案位置\n",
    "\n",
    "# return ：\n",
    "# data：處理後的結果\n",
    "#\n",
    "def read_dataset(fname):\n",
    "    # 第一行為欄位名稱 agelevel,income,student,credit,BuyComputer \n",
    "    # data = pd.read_csv(fname, index_col=0) \n",
    "    data = pd.read_csv(fname)\n",
    "    # 處理 agelevel 數據, youth : 0, middle : 1, senior : 2\n",
    "    data['agelevel'] = np.where(data['agelevel'] == 'senior', 2 , np.where(data['agelevel'] == 'middle', 1 , 0) )\n",
    "    # 處理 income 數據, low : 0, medium : 1, high : 2\n",
    "    data['income'] = np.where(data['income'] == 'high', 2 , np.where(data['income'] == 'middle', 1 , 0) )\n",
    "    # 處理 student 數據, yes : 0, no : 1\n",
    "    data['student'] = (data['student'] == 'yes').astype('int')\n",
    "    # 處理 credit 數據, fair : 0, excellent : 1\n",
    "    data['credit'] = (data['credit'] == 'excellent').astype('int')\n",
    "    # 處理 BuyComputer 數據, no : 0, yes : 1\n",
    "    data['BuyComputer'] = (data['BuyComputer'] == 'yes').astype('int')\n",
    "\n",
    "    return data\n",
    "\n",
    "# 訓練資料   \n",
    "buycomputer_train = read_dataset('./buyComputer.csv')\n",
    "x_buycomputer_train = buycomputer_train.drop(['BuyComputer'], axis=1).values\n",
    "y_buycomputer_train = buycomputer_train['BuyComputer'].values\n",
    "\n",
    "print(\"處理過的「訓練」資料內容\")\n",
    "print(buycomputer_train)\n",
    "\n",
    "print(\"--------------------\")\n",
    "#測試資料\n",
    "buycomputer_test = read_dataset('./buyComputer_test.csv')\n",
    "x_buycomputer_test = buycomputer_test.drop(['BuyComputer'], axis=1).values\n",
    "y_buycomputer_test = buycomputer_test['BuyComputer'].values\n",
    "print(\"處理過的「測試」資料內容\")\n",
    "print(buycomputer_test)"
   ]
  },
  {
   "cell_type": "markdown",
   "metadata": {},
   "source": [
    "### 計算準確率"
   ]
  },
  {
   "cell_type": "code",
   "execution_count": 14,
   "metadata": {},
   "outputs": [
    {
     "name": "stdout",
     "output_type": "stream",
     "text": [
      "Misclassified samples: 1\n",
      "準確率: 0.00\n"
     ]
    }
   ],
   "source": [
    "#預測準確率\n",
    "# from sklearn.linear_model import Perceptron\n",
    "\n",
    "ppn = Perceptron(max_iter=40, eta0=0.1, random_state=0)\n",
    "ppn.fit(x_buycomputer_train, y_buycomputer_train)\n",
    "y_pred = ppn.predict(x_buycomputer_test)\n",
    "print('Misclassified samples: %d' % (y_buycomputer_test != y_pred).sum())\n",
    "print('準確率: %.2f' % accuracy_score(y_buycomputer_test, y_pred))\n"
   ]
  },
  {
   "cell_type": "markdown",
   "metadata": {},
   "source": [
    "### 產出 tree dot 檔"
   ]
  },
  {
   "cell_type": "code",
   "execution_count": 16,
   "metadata": {},
   "outputs": [],
   "source": [
    "# from sklearn.tree import export_graphviz\n",
    "#產出 tree dot 檔\n",
    "tree = DecisionTreeClassifier(criterion='entropy', max_depth=4, random_state=0)\n",
    "tree.fit(x_buycomputer_train, y_buycomputer_train)\n",
    "feature_names = ['agelevel', 'income', 'student', 'credit']\n",
    "A = ['Yes', 'No']\n",
    "export_graphviz(tree, \n",
    "                out_file='buyComputer_tree.dot', \n",
    "                feature_names=feature_names, class_names=A)"
   ]
  },
  {
   "cell_type": "code",
   "execution_count": null,
   "metadata": {},
   "outputs": [],
   "source": []
  },
  {
   "cell_type": "markdown",
   "metadata": {},
   "source": [
    "### 以下方式可以透過程式碼直接輸出圖片\n",
    "打開終端機，先安裝相關套件\n",
    "```shell \n",
    "    pip install graphviz\n",
    "    pip install pydotplus\n",
    "```"
   ]
  },
  {
   "cell_type": "markdown",
   "metadata": {},
   "source": [
    "### 將 dot 檔轉成可以圖形，需要安裝軟體\n",
    "http://www.graphviz.org\n"
   ]
  },
  {
   "cell_type": "code",
   "execution_count": 17,
   "metadata": {},
   "outputs": [
    {
     "data": {
      "text/plain": [
       "True"
      ]
     },
     "execution_count": 17,
     "metadata": {},
     "output_type": "execute_result"
    }
   ],
   "source": [
    "# 透過pydotplus, 將 dot 檔直接輸出檔案，檔名為tree.png\n",
    "#import pydotplus\n",
    "\n",
    "graph_a = pydotplus.graph_from_dot_file('buyComputer_tree.dot')\n",
    "graph_a.write_png('buyComputer_tree.png') # generate graph in svg.\n"
   ]
  },
  {
   "cell_type": "markdown",
   "metadata": {},
   "source": [
    "## 額外補充\n",
    "```\n",
    "Mac install graphviz 方法\n",
    "透過 homebrew 安裝\n",
    "\n",
    "* Step 1：打開終端機\n",
    "\n",
    "* Step 2：沒安裝遇homebrew的，請先安裝 homebrew ，網址：https://brew.sh/。\n",
    "安裝語法：/bin/bash -c \"$(curl -fsSL https://raw.githubusercontent.com/Homebrew/install/HEAD/install.sh)\"\n",
    "\n",
    "* Step 3：安裝 graphviz\n",
    "安裝語法：brew install graphviz\n",
    "\n",
    "* Step 4：to create png, and visualize it by clicking on the png file! \n",
    "use: dot  -Tpng tree.dot  -o  tree.png\n",
    "```"
   ]
  }
 ],
 "metadata": {
  "kernelspec": {
   "display_name": "Python 3.9.6 64-bit",
   "language": "python",
   "name": "python3"
  },
  "language_info": {
   "codemirror_mode": {
    "name": "ipython",
    "version": 3
   },
   "file_extension": ".py",
   "mimetype": "text/x-python",
   "name": "python",
   "nbconvert_exporter": "python",
   "pygments_lexer": "ipython3",
   "version": "3.9.6"
  },
  "vscode": {
   "interpreter": {
    "hash": "949777d72b0d2535278d3dc13498b2535136f6dfe0678499012e853ee9abcab1"
   }
  }
 },
 "nbformat": 4,
 "nbformat_minor": 2
}
