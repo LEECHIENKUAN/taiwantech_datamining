{
 "cells": [
  {
   "cell_type": "code",
   "execution_count": 1,
   "metadata": {
    "executionInfo": {
     "elapsed": 6,
     "status": "ok",
     "timestamp": 1644667369416,
     "user": {
      "displayName": "Jason Chung",
      "photoUrl": "https://lh3.googleusercontent.com/a/default-user=s64",
      "userId": "00239765994812753065"
     },
     "user_tz": -480
    },
    "id": "vT8nNnXQXOJF"
   },
   "outputs": [],
   "source": [
    "import pandas as pd\n",
    "import numpy as np"
   ]
  },
  {
   "cell_type": "code",
   "execution_count": 2,
   "metadata": {},
   "outputs": [
    {
     "data": {
      "text/html": [
       "<div>\n",
       "<style scoped>\n",
       "    .dataframe tbody tr th:only-of-type {\n",
       "        vertical-align: middle;\n",
       "    }\n",
       "\n",
       "    .dataframe tbody tr th {\n",
       "        vertical-align: top;\n",
       "    }\n",
       "\n",
       "    .dataframe thead th {\n",
       "        text-align: right;\n",
       "    }\n",
       "</style>\n",
       "<table border=\"1\" class=\"dataframe\">\n",
       "  <thead>\n",
       "    <tr style=\"text-align: right;\">\n",
       "      <th></th>\n",
       "      <th>Customer ID</th>\n",
       "      <th>Gender</th>\n",
       "      <th>Car Type</th>\n",
       "      <th>Shirt Size</th>\n",
       "      <th>Class</th>\n",
       "    </tr>\n",
       "  </thead>\n",
       "  <tbody>\n",
       "    <tr>\n",
       "      <th>0</th>\n",
       "      <td>1</td>\n",
       "      <td>M</td>\n",
       "      <td>Family</td>\n",
       "      <td>Small</td>\n",
       "      <td>C1</td>\n",
       "    </tr>\n",
       "    <tr>\n",
       "      <th>1</th>\n",
       "      <td>2</td>\n",
       "      <td>M</td>\n",
       "      <td>Sports</td>\n",
       "      <td>Medium</td>\n",
       "      <td>C0</td>\n",
       "    </tr>\n",
       "    <tr>\n",
       "      <th>2</th>\n",
       "      <td>3</td>\n",
       "      <td>M</td>\n",
       "      <td>Sports</td>\n",
       "      <td>Medium</td>\n",
       "      <td>C0</td>\n",
       "    </tr>\n",
       "    <tr>\n",
       "      <th>3</th>\n",
       "      <td>4</td>\n",
       "      <td>M</td>\n",
       "      <td>Sports</td>\n",
       "      <td>Large</td>\n",
       "      <td>C0</td>\n",
       "    </tr>\n",
       "    <tr>\n",
       "      <th>4</th>\n",
       "      <td>5</td>\n",
       "      <td>M</td>\n",
       "      <td>Sports</td>\n",
       "      <td>Extra Large</td>\n",
       "      <td>C0</td>\n",
       "    </tr>\n",
       "    <tr>\n",
       "      <th>5</th>\n",
       "      <td>6</td>\n",
       "      <td>M</td>\n",
       "      <td>Sports</td>\n",
       "      <td>Extra Large</td>\n",
       "      <td>C0</td>\n",
       "    </tr>\n",
       "    <tr>\n",
       "      <th>6</th>\n",
       "      <td>7</td>\n",
       "      <td>F</td>\n",
       "      <td>Sports</td>\n",
       "      <td>Small</td>\n",
       "      <td>C0</td>\n",
       "    </tr>\n",
       "    <tr>\n",
       "      <th>7</th>\n",
       "      <td>8</td>\n",
       "      <td>F</td>\n",
       "      <td>Sports</td>\n",
       "      <td>Small</td>\n",
       "      <td>C0</td>\n",
       "    </tr>\n",
       "    <tr>\n",
       "      <th>8</th>\n",
       "      <td>9</td>\n",
       "      <td>F</td>\n",
       "      <td>Sports</td>\n",
       "      <td>Medium</td>\n",
       "      <td>C0</td>\n",
       "    </tr>\n",
       "    <tr>\n",
       "      <th>9</th>\n",
       "      <td>10</td>\n",
       "      <td>F</td>\n",
       "      <td>Luxury</td>\n",
       "      <td>Large</td>\n",
       "      <td>C0</td>\n",
       "    </tr>\n",
       "    <tr>\n",
       "      <th>10</th>\n",
       "      <td>11</td>\n",
       "      <td>M</td>\n",
       "      <td>Family</td>\n",
       "      <td>Large</td>\n",
       "      <td>C1</td>\n",
       "    </tr>\n",
       "    <tr>\n",
       "      <th>11</th>\n",
       "      <td>12</td>\n",
       "      <td>M</td>\n",
       "      <td>Family</td>\n",
       "      <td>Extra Large</td>\n",
       "      <td>C1</td>\n",
       "    </tr>\n",
       "    <tr>\n",
       "      <th>12</th>\n",
       "      <td>13</td>\n",
       "      <td>M</td>\n",
       "      <td>Family</td>\n",
       "      <td>Medium</td>\n",
       "      <td>C1</td>\n",
       "    </tr>\n",
       "    <tr>\n",
       "      <th>13</th>\n",
       "      <td>14</td>\n",
       "      <td>M</td>\n",
       "      <td>Luxury</td>\n",
       "      <td>Extra Large</td>\n",
       "      <td>C1</td>\n",
       "    </tr>\n",
       "    <tr>\n",
       "      <th>14</th>\n",
       "      <td>15</td>\n",
       "      <td>F</td>\n",
       "      <td>Luxury</td>\n",
       "      <td>Small</td>\n",
       "      <td>C1</td>\n",
       "    </tr>\n",
       "    <tr>\n",
       "      <th>15</th>\n",
       "      <td>16</td>\n",
       "      <td>F</td>\n",
       "      <td>Luxury</td>\n",
       "      <td>Small</td>\n",
       "      <td>C1</td>\n",
       "    </tr>\n",
       "    <tr>\n",
       "      <th>16</th>\n",
       "      <td>17</td>\n",
       "      <td>F</td>\n",
       "      <td>Luxury</td>\n",
       "      <td>Medium</td>\n",
       "      <td>C1</td>\n",
       "    </tr>\n",
       "    <tr>\n",
       "      <th>17</th>\n",
       "      <td>18</td>\n",
       "      <td>F</td>\n",
       "      <td>Luxury</td>\n",
       "      <td>Medium</td>\n",
       "      <td>C1</td>\n",
       "    </tr>\n",
       "    <tr>\n",
       "      <th>18</th>\n",
       "      <td>19</td>\n",
       "      <td>F</td>\n",
       "      <td>Luxury</td>\n",
       "      <td>Medium</td>\n",
       "      <td>C1</td>\n",
       "    </tr>\n",
       "    <tr>\n",
       "      <th>19</th>\n",
       "      <td>20</td>\n",
       "      <td>F</td>\n",
       "      <td>Luxury</td>\n",
       "      <td>Large</td>\n",
       "      <td>C0</td>\n",
       "    </tr>\n",
       "  </tbody>\n",
       "</table>\n",
       "</div>"
      ],
      "text/plain": [
       "    Customer ID Gender Car Type   Shirt Size Class\n",
       "0             1      M   Family        Small    C1\n",
       "1             2      M   Sports       Medium    C0\n",
       "2             3      M   Sports       Medium    C0\n",
       "3             4      M   Sports        Large    C0\n",
       "4             5      M   Sports  Extra Large    C0\n",
       "5             6      M   Sports  Extra Large    C0\n",
       "6             7      F   Sports        Small    C0\n",
       "7             8      F   Sports        Small    C0\n",
       "8             9      F   Sports       Medium    C0\n",
       "9            10      F   Luxury        Large    C0\n",
       "10           11      M   Family        Large    C1\n",
       "11           12      M   Family  Extra Large    C1\n",
       "12           13      M   Family       Medium    C1\n",
       "13           14      M   Luxury  Extra Large    C1\n",
       "14           15      F   Luxury        Small    C1\n",
       "15           16      F   Luxury        Small    C1\n",
       "16           17      F   Luxury       Medium    C1\n",
       "17           18      F   Luxury       Medium    C1\n",
       "18           19      F   Luxury       Medium    C1\n",
       "19           20      F   Luxury        Large    C0"
      ]
     },
     "execution_count": 2,
     "metadata": {},
     "output_type": "execute_result"
    }
   ],
   "source": [
    "df = pd.read_csv('./dm2021tree.csv')\n",
    "df"
   ]
  },
  {
   "cell_type": "code",
   "execution_count": 4,
   "metadata": {},
   "outputs": [],
   "source": [
    "CustomerData = df[['Gender', 'Car Type','Shirt Size']]\n"
   ]
  },
  {
   "cell_type": "code",
   "execution_count": 5,
   "metadata": {},
   "outputs": [
    {
     "name": "stderr",
     "output_type": "stream",
     "text": [
      "C:\\Users\\USER\\AppData\\Local\\Temp/ipykernel_8572/2570988120.py:1: SettingWithCopyWarning: \n",
      "A value is trying to be set on a copy of a slice from a DataFrame.\n",
      "Try using .loc[row_indexer,col_indexer] = value instead\n",
      "\n",
      "See the caveats in the documentation: https://pandas.pydata.org/pandas-docs/stable/user_guide/indexing.html#returning-a-view-versus-a-copy\n",
      "  CustomerData['Gender'] = (CustomerData['Gender'] == 'M').astype('int')\n",
      "C:\\Users\\USER\\AppData\\Local\\Temp/ipykernel_8572/2570988120.py:3: SettingWithCopyWarning: \n",
      "A value is trying to be set on a copy of a slice from a DataFrame.\n",
      "Try using .loc[row_indexer,col_indexer] = value instead\n",
      "\n",
      "See the caveats in the documentation: https://pandas.pydata.org/pandas-docs/stable/user_guide/indexing.html#returning-a-view-versus-a-copy\n",
      "  CustomerData['Car Type'] = CustomerData['Car Type'].apply(lambda n: label1.index(n))\n",
      "C:\\Users\\USER\\AppData\\Local\\Temp/ipykernel_8572/2570988120.py:5: SettingWithCopyWarning: \n",
      "A value is trying to be set on a copy of a slice from a DataFrame.\n",
      "Try using .loc[row_indexer,col_indexer] = value instead\n",
      "\n",
      "See the caveats in the documentation: https://pandas.pydata.org/pandas-docs/stable/user_guide/indexing.html#returning-a-view-versus-a-copy\n",
      "  CustomerData['Shirt Size'] = CustomerData['Shirt Size'].apply(lambda n: label2.index(n))\n"
     ]
    }
   ],
   "source": [
    "CustomerData['Gender'] = (CustomerData['Gender'] == 'M').astype('int')\n",
    "label1 = CustomerData['Car Type'].unique().tolist()\n",
    "CustomerData['Car Type'] = CustomerData['Car Type'].apply(lambda n: label1.index(n))\n",
    "label2 = CustomerData['Shirt Size'].unique().tolist()\n",
    "CustomerData['Shirt Size'] = CustomerData['Shirt Size'].apply(lambda n: label2.index(n))\n"
   ]
  },
  {
   "cell_type": "code",
   "execution_count": 6,
   "metadata": {
    "colab": {
     "base_uri": "https://localhost:8080/"
    },
    "executionInfo": {
     "elapsed": 262,
     "status": "ok",
     "timestamp": 1644667374680,
     "user": {
      "displayName": "Jason Chung",
      "photoUrl": "https://lh3.googleusercontent.com/a/default-user=s64",
      "userId": "00239765994812753065"
     },
     "user_tz": -480
    },
    "id": "Rl2Bcy2LQnUH",
    "outputId": "ecac4bd2-b9b5-4d54-830d-492bad44750f"
   },
   "outputs": [
    {
     "data": {
      "text/plain": [
       "array([[1, 0, 0],\n",
       "       [1, 1, 1],\n",
       "       [1, 1, 1],\n",
       "       [1, 1, 2],\n",
       "       [1, 1, 3]], dtype=int64)"
      ]
     },
     "execution_count": 6,
     "metadata": {},
     "output_type": "execute_result"
    }
   ],
   "source": [
    "CustomerData = np.array(CustomerData)\n",
    "CustomerData[:5]"
   ]
  },
  {
   "cell_type": "code",
   "execution_count": 7,
   "metadata": {
    "colab": {
     "base_uri": "https://localhost:8080/"
    },
    "executionInfo": {
     "elapsed": 301,
     "status": "ok",
     "timestamp": 1644667376133,
     "user": {
      "displayName": "Jason Chung",
      "photoUrl": "https://lh3.googleusercontent.com/a/default-user=s64",
      "userId": "00239765994812753065"
     },
     "user_tz": -480
    },
    "id": "6Blz-O_iwxPO",
    "outputId": "a4e374a2-9dd5-4046-fdcb-959479989131"
   },
   "outputs": [
    {
     "data": {
      "text/plain": [
       "array(['C1', 'C0', 'C0', 'C0', 'C0'], dtype=object)"
      ]
     },
     "execution_count": 7,
     "metadata": {},
     "output_type": "execute_result"
    }
   ],
   "source": [
    "CustomerTarget = df['Class']\n",
    "CustomerTarget = np.array(CustomerTarget)\n",
    "CustomerTarget[:5]"
   ]
  },
  {
   "cell_type": "code",
   "execution_count": 8,
   "metadata": {
    "executionInfo": {
     "elapsed": 392,
     "status": "ok",
     "timestamp": 1644667384183,
     "user": {
      "displayName": "Jason Chung",
      "photoUrl": "https://lh3.googleusercontent.com/a/default-user=s64",
      "userId": "00239765994812753065"
     },
     "user_tz": -480
    },
    "id": "OL3qh2WznXnE"
   },
   "outputs": [],
   "source": [
    "from sklearn.tree import DecisionTreeClassifier"
   ]
  },
  {
   "cell_type": "code",
   "execution_count": 9,
   "metadata": {
    "colab": {
     "base_uri": "https://localhost:8080/"
    },
    "executionInfo": {
     "elapsed": 4,
     "status": "ok",
     "timestamp": 1644667384658,
     "user": {
      "displayName": "Jason Chung",
      "photoUrl": "https://lh3.googleusercontent.com/a/default-user=s64",
      "userId": "00239765994812753065"
     },
     "user_tz": -480
    },
    "id": "vtfkOxACL5ts",
    "outputId": "8a9c3c75-5cf1-4d49-c541-b8bd75830c33"
   },
   "outputs": [
    {
     "data": {
      "text/plain": [
       "DecisionTreeClassifier(max_depth=3)"
      ]
     },
     "execution_count": 9,
     "metadata": {},
     "output_type": "execute_result"
    }
   ],
   "source": [
    "myDT = DecisionTreeClassifier(criterion = 'gini', max_depth=3)\n",
    "myDT"
   ]
  },
  {
   "cell_type": "code",
   "execution_count": 10,
   "metadata": {
    "colab": {
     "base_uri": "https://localhost:8080/"
    },
    "executionInfo": {
     "elapsed": 7,
     "status": "ok",
     "timestamp": 1644667385912,
     "user": {
      "displayName": "Jason Chung",
      "photoUrl": "https://lh3.googleusercontent.com/a/default-user=s64",
      "userId": "00239765994812753065"
     },
     "user_tz": -480
    },
    "id": "Tb25CpqQL5--",
    "outputId": "b6a910d2-a86a-4e17-b5f8-175e10bffa3c"
   },
   "outputs": [
    {
     "data": {
      "text/plain": [
       "DecisionTreeClassifier(max_depth=3)"
      ]
     },
     "execution_count": 10,
     "metadata": {},
     "output_type": "execute_result"
    }
   ],
   "source": [
    "myDT.fit(CustomerData, CustomerTarget)"
   ]
  },
  {
   "cell_type": "code",
   "execution_count": 11,
   "metadata": {
    "colab": {
     "base_uri": "https://localhost:8080/"
    },
    "executionInfo": {
     "elapsed": 262,
     "status": "ok",
     "timestamp": 1644667395010,
     "user": {
      "displayName": "Jason Chung",
      "photoUrl": "https://lh3.googleusercontent.com/a/default-user=s64",
      "userId": "00239765994812753065"
     },
     "user_tz": -480
    },
    "id": "0zq7GR7ViVyA",
    "outputId": "2bc27be8-fe95-4476-a79d-3d4ff5f1d76c"
   },
   "outputs": [
    {
     "data": {
      "text/plain": [
       "array(['C1', 'C0', 'C0', 'C0', 'C0', 'C0', 'C0', 'C0', 'C0', 'C0', 'C1',\n",
       "       'C1', 'C1', 'C0', 'C1', 'C1', 'C1', 'C1', 'C1', 'C0'], dtype=object)"
      ]
     },
     "execution_count": 11,
     "metadata": {},
     "output_type": "execute_result"
    }
   ],
   "source": [
    "y_pred = myDT.predict(CustomerData)\n",
    "y_pred"
   ]
  },
  {
   "cell_type": "code",
   "execution_count": 12,
   "metadata": {
    "executionInfo": {
     "elapsed": 2,
     "status": "ok",
     "timestamp": 1644667396220,
     "user": {
      "displayName": "Jason Chung",
      "photoUrl": "https://lh3.googleusercontent.com/a/default-user=s64",
      "userId": "00239765994812753065"
     },
     "user_tz": -480
    },
    "id": "0G1NLckrwpBU"
   },
   "outputs": [],
   "source": [
    "from sklearn import metrics"
   ]
  },
  {
   "cell_type": "code",
   "execution_count": 13,
   "metadata": {
    "colab": {
     "base_uri": "https://localhost:8080/"
    },
    "executionInfo": {
     "elapsed": 4,
     "status": "ok",
     "timestamp": 1644667396620,
     "user": {
      "displayName": "Jason Chung",
      "photoUrl": "https://lh3.googleusercontent.com/a/default-user=s64",
      "userId": "00239765994812753065"
     },
     "user_tz": -480
    },
    "id": "uwh6UiSw9ri3",
    "outputId": "3cea0d5b-7b10-423b-e59e-2b96638ab8e8"
   },
   "outputs": [
    {
     "name": "stdout",
     "output_type": "stream",
     "text": [
      "Accuracy: 0.95\n"
     ]
    }
   ],
   "source": [
    "acc = metrics.accuracy_score(CustomerTarget, y_pred)\n",
    "print(\"Accuracy: {:.2f}\".format(acc))"
   ]
  },
  {
   "cell_type": "code",
   "execution_count": 14,
   "metadata": {
    "colab": {
     "base_uri": "https://localhost:8080/"
    },
    "executionInfo": {
     "elapsed": 430,
     "status": "ok",
     "timestamp": 1644667398907,
     "user": {
      "displayName": "Jason Chung",
      "photoUrl": "https://lh3.googleusercontent.com/a/default-user=s64",
      "userId": "00239765994812753065"
     },
     "user_tz": -480
    },
    "id": "Fy13FEqiAeSJ",
    "outputId": "5485d8b5-a585-4253-e7ba-d275d9fb4209"
   },
   "outputs": [
    {
     "name": "stdout",
     "output_type": "stream",
     "text": [
      "Confusion Matrix: \n",
      " [[10  0]\n",
      " [ 1  9]]\n"
     ]
    }
   ],
   "source": [
    "mycm = metrics.confusion_matrix(CustomerTarget, y_pred)\n",
    "print('Confusion Matrix: \\n', mycm)"
   ]
  },
  {
   "cell_type": "code",
   "execution_count": 20,
   "metadata": {
    "colab": {
     "base_uri": "https://localhost:8080/",
     "height": 351
    },
    "executionInfo": {
     "elapsed": 467,
     "status": "ok",
     "timestamp": 1644667399831,
     "user": {
      "displayName": "Jason Chung",
      "photoUrl": "https://lh3.googleusercontent.com/a/default-user=s64",
      "userId": "00239765994812753065"
     },
     "user_tz": -480
    },
    "id": "Fv3pzDzPCh63",
    "outputId": "5c3055cf-1137-478b-f316-735b756480cf"
   },
   "outputs": [
    {
     "name": "stderr",
     "output_type": "stream",
     "text": [
      "C:\\Users\\USER\\anaconda3\\lib\\site-packages\\sklearn\\utils\\deprecation.py:87: FutureWarning: Function plot_confusion_matrix is deprecated; Function `plot_confusion_matrix` is deprecated in 1.0 and will be removed in 1.2. Use one of the class methods: ConfusionMatrixDisplay.from_predictions or ConfusionMatrixDisplay.from_estimator.\n",
      "  warnings.warn(msg, category=FutureWarning)\n"
     ]
    },
    {
     "data": {
      "text/plain": [
       "<sklearn.metrics._plot.confusion_matrix.ConfusionMatrixDisplay at 0x265505a4ca0>"
      ]
     },
     "execution_count": 20,
     "metadata": {},
     "output_type": "execute_result"
    },
    {
     "data": {
      "image/png": "[encoded data removed]",
      "text/plain": [
       "<Figure size 432x288 with 2 Axes>"
      ]
     },
     "metadata": {
      "needs_background": "light"
     },
     "output_type": "display_data"
    }
   ],
   "source": [
    "metrics.plot_confusion_matrix(myDT,CustomerData, CustomerTarget)"
   ]
  },
  {
   "cell_type": "code",
   "execution_count": 16,
   "metadata": {
    "executionInfo": {
     "elapsed": 3,
     "status": "ok",
     "timestamp": 1644667404755,
     "user": {
      "displayName": "Jason Chung",
      "photoUrl": "https://lh3.googleusercontent.com/a/default-user=s64",
      "userId": "00239765994812753065"
     },
     "user_tz": -480
    },
    "id": "nJ-RLJkfazhq"
   },
   "outputs": [],
   "source": [
    "from sklearn.tree import plot_tree"
   ]
  },
  {
   "cell_type": "code",
   "execution_count": 17,
   "metadata": {
    "colab": {
     "base_uri": "https://localhost:8080/",
     "height": 508
    },
    "executionInfo": {
     "elapsed": 1123,
     "status": "ok",
     "timestamp": 1644667406885,
     "user": {
      "displayName": "Jason Chung",
      "photoUrl": "https://lh3.googleusercontent.com/a/default-user=s64",
      "userId": "00239765994812753065"
     },
     "user_tz": -480
    },
    "id": "IY8Fv0KGbrXH",
    "outputId": "b7e65472-e2db-43d2-a3f9-2a3217751cec"
   },
   "outputs": [
    {
     "data": {
      "text/plain": [
       "[Text(0.3333333333333333, 0.875, 'X[1] <= 0.5\\ngini = 0.5\\nsamples = 20\\nvalue = [10, 10]'),\n",
       " Text(0.16666666666666666, 0.625, 'gini = 0.0\\nsamples = 4\\nvalue = [0, 4]'),\n",
       " Text(0.5, 0.625, 'X[1] <= 1.5\\ngini = 0.469\\nsamples = 16\\nvalue = [10, 6]'),\n",
       " Text(0.3333333333333333, 0.375, 'gini = 0.0\\nsamples = 8\\nvalue = [8, 0]'),\n",
       " Text(0.6666666666666666, 0.375, 'X[2] <= 1.5\\ngini = 0.375\\nsamples = 8\\nvalue = [2, 6]'),\n",
       " Text(0.5, 0.125, 'gini = 0.0\\nsamples = 5\\nvalue = [0, 5]'),\n",
       " Text(0.8333333333333334, 0.125, 'gini = 0.444\\nsamples = 3\\nvalue = [2, 1]')]"
      ]
     },
     "execution_count": 17,
     "metadata": {},
     "output_type": "execute_result"
    },
    {
     "data": {
      "image/png": "[encoded data removed]",
      "text/plain": [
       "<Figure size 432x288 with 1 Axes>"
      ]
     },
     "metadata": {
      "needs_background": "light"
     },
     "output_type": "display_data"
    }
   ],
   "source": [
    "plot_tree(myDT)"
   ]
  },
  {
   "cell_type": "code",
   "execution_count": 18,
   "metadata": {
    "colab": {
     "base_uri": "https://localhost:8080/",
     "height": 575
    },
    "executionInfo": {
     "elapsed": 1831,
     "status": "ok",
     "timestamp": 1644667740392,
     "user": {
      "displayName": "Jason Chung",
      "photoUrl": "https://lh3.googleusercontent.com/a/default-user=s64",
      "userId": "00239765994812753065"
     },
     "user_tz": -480
    },
    "id": "4RlcyX3JDOvq",
    "outputId": "ecd2c09f-3167-4536-a55c-2c4fac10dfd2"
   },
   "outputs": [
    {
     "data": {
      "image/png": "[encoded data removed]",
      "text/plain": [
       "<Figure size 1080x720 with 1 Axes>"
      ]
     },
     "metadata": {
      "needs_background": "light"
     },
     "output_type": "display_data"
    }
   ],
   "source": [
    "import matplotlib.pyplot as plt\n",
    "plt.figure(figsize=(15,10))\n",
    "A=['C0', 'C1']\n",
    "F=['Gender','Car TypeF','Shirt Size']\n",
    "plot_tree(myDT, feature_names=F, class_names=A)\n",
    "\n",
    "plt.show()"
   ]
  },
  {
   "cell_type": "code",
   "execution_count": null,
   "metadata": {
    "id": "pmIWMmllzfuQ"
   },
   "outputs": [],
   "source": []
  }
 ],
 "metadata": {
  "colab": {
   "collapsed_sections": [],
   "name": "Classification_DecisionTree_cart1.ipynb",
   "provenance": []
  },
  "kernelspec": {
   "display_name": "Python 3 (ipykernel)",
   "language": "python",
   "name": "python3"
  },
  "language_info": {
   "codemirror_mode": {
    "name": "ipython",
    "version": 3
   },
   "file_extension": ".py",
   "mimetype": "text/x-python",
   "name": "python",
   "nbconvert_exporter": "python",
   "pygments_lexer": "ipython3",
   "version": "3.8.8"
  }
 },
 "nbformat": 4,
 "nbformat_minor": 1
}
